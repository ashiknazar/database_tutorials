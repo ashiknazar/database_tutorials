{
 "cells": [
  {
   "cell_type": "markdown",
   "metadata": {},
   "source": [
    "#### Optimized for full-text search and analytics."
   ]
  },
  {
   "cell_type": "markdown",
   "metadata": {},
   "source": [
    "- Elasticsearch is a NoSQL search engine that stores data as JSON documents and enables full-text search using inverted indexing."
   ]
  },
  {
   "cell_type": "markdown",
   "metadata": {},
   "source": [
    "### 1.Storing Data in Elasticsearch"
   ]
  },
  {
   "cell_type": "markdown",
   "metadata": {},
   "source": [
    "- Let’s say we have a Books Index where we store books with their title, author, and description."
   ]
  },
  {
   "cell_type": "markdown",
   "metadata": {},
   "source": [
    "Storing a Document in Elasticsearch: \n",
    "We use the `_index` API to insert a document."
   ]
  },
  {
   "cell_type": "raw",
   "metadata": {},
   "source": [
    "PUT books/_doc/1\n",
    "{\n",
    "  \"title\": \"The Great Gatsby\",\n",
    "  \"author\": \"F. Scott Fitzgerald\",\n",
    "  \"description\": \"A story of wealth, love, and tragedy in the 1920s.\"\n",
    "}\n"
   ]
  },
  {
   "cell_type": "markdown",
   "metadata": {
    "vscode": {
     "languageId": "raw"
    }
   },
   "source": [
    "- The document is stored in JSON format inside the books index.\n",
    "-  Elasticsearch automatically tokenizes (splits) text fields for searching."
   ]
  },
  {
   "cell_type": "markdown",
   "metadata": {},
   "source": [
    "### 2.How Full-Text Search Works\n",
    "- Elasticsearch creates an inverted index to allow fast searching.\n",
    "Let’s say we search for \"wealth\" in the book descriptions:"
   ]
  },
  {
   "cell_type": "raw",
   "metadata": {},
   "source": [
    "GET books/_search\n",
    "{\n",
    "  \"query\": {\n",
    "    \"match\": {\n",
    "      \"description\": \"wealth\"\n",
    "    }\n",
    "  }\n",
    "}\n"
   ]
  },
  {
   "cell_type": "markdown",
   "metadata": {
    "vscode": {
     "languageId": "raw"
    }
   },
   "source": [
    "#### What Happens Internally?"
   ]
  },
  {
   "cell_type": "markdown",
   "metadata": {},
   "source": [
    "1. Tokenization:\n",
    "- The description \"A story of wealth, love, and tragedy in the 1920s.\" is split into tokens:\n",
    "[\"story\", \"wealth\", \"love\", \"tragedy\", \"1920s\"]"
   ]
  },
  {
   "cell_type": "markdown",
   "metadata": {},
   "source": [
    "2. Inverted Indexing\n",
    "- Elasticsearch stores a lookup table like this:\n",
    "\n"
   ]
  },
  {
   "cell_type": "raw",
   "metadata": {},
   "source": [
    "\"wealth\" → [Document 1]\n",
    "\"love\" → [Document 1]\n",
    "\"tragedy\" → [Document 1]\n"
   ]
  },
  {
   "cell_type": "markdown",
   "metadata": {
    "vscode": {
     "languageId": "raw"
    }
   },
   "source": [
    "3. Search Execution:\n",
    "- When you search \"wealth\", Elasticsearch checks the index and returns Document 1.\n",
    "#### Fast Search - \n",
    "Instead of scanning all documents, it directly finds the result using the index."
   ]
  },
  {
   "cell_type": "markdown",
   "metadata": {
    "vscode": {
     "languageId": "raw"
    }
   },
   "source": [
    "___\n",
    "___"
   ]
  },
  {
   "cell_type": "markdown",
   "metadata": {},
   "source": [
    "## Data Storage & Search in Apache Solr"
   ]
  },
  {
   "cell_type": "markdown",
   "metadata": {},
   "source": [
    "- Solr works similarly but uses XML or JSON for indexing."
   ]
  },
  {
   "cell_type": "markdown",
   "metadata": {},
   "source": [
    "**Storing a Document in Solr**"
   ]
  },
  {
   "cell_type": "raw",
   "metadata": {},
   "source": [
    "POST http://localhost:8983/solr/books/update?commit=true\n",
    "[\n",
    "  {\n",
    "    \"id\": \"1\",\n",
    "    \"title\": \"The Great Gatsby\",\n",
    "    \"author\": \"F. Scott Fitzgerald\",\n",
    "    \"description\": \"A story of wealth, love, and tragedy in the 1920s.\"\n",
    "  }\n",
    "]\n"
   ]
  },
  {
   "cell_type": "markdown",
   "metadata": {},
   "source": [
    "#### Performing a Full-Text Search"
   ]
  },
  {
   "cell_type": "raw",
   "metadata": {},
   "source": [
    "http://localhost:8983/solr/books/select?q=description:wealth\n"
   ]
  },
  {
   "cell_type": "markdown",
   "metadata": {
    "vscode": {
     "languageId": "raw"
    }
   },
   "source": [
    "- Solr tokenizes text and searches efficiently using an inverted index like Elasticsearch."
   ]
  },
  {
   "cell_type": "markdown",
   "metadata": {},
   "source": []
  }
 ],
 "metadata": {
  "kernelspec": {
   "display_name": "base",
   "language": "python",
   "name": "python3"
  },
  "language_info": {
   "codemirror_mode": {
    "name": "ipython",
    "version": 3
   },
   "file_extension": ".py",
   "mimetype": "text/x-python",
   "name": "python",
   "nbconvert_exporter": "python",
   "pygments_lexer": "ipython3",
   "version": "3.12.7"
  }
 },
 "nbformat": 4,
 "nbformat_minor": 2
}
