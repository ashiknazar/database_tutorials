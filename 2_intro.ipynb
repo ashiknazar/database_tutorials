{
 "cells": [
  {
   "cell_type": "markdown",
   "metadata": {},
   "source": [
    "## 1. Relational database(SQL)"
   ]
  },
  {
   "cell_type": "raw",
   "metadata": {
    "vscode": {
     "languageId": "raw"
    }
   },
   "source": [
    "Database\t             Description\n",
    "\n",
    "MySQL\t                 Open-source, widely used for web apps.\n",
    "PostgreSQL  \t         Advanced, supports complex queries & analytics.\n",
    "Microsoft SQL Server\t Enterprise-level, optimized for business intelligence.\n",
    "Oracle Database\t         Used in large enterprises for handling complex transactions."
   ]
  },
  {
   "cell_type": "markdown",
   "metadata": {
    "vscode": {
     "languageId": "raw"
    }
   },
   "source": [
    "- Microsoft SQL Server is optimized for **Business Intelligence (BI)** because it includes various features and tools that help organizations analyze data, generate insights, and make data-driven decisions. "
   ]
  },
  {
   "cell_type": "markdown",
   "metadata": {},
   "source": [
    "___"
   ]
  },
  {
   "cell_type": "markdown",
   "metadata": {},
   "source": [
    "## 2.NoSQL Databases\n",
    "- Designed for unstructured & semi-structured data (JSON, XML, etc.).\n",
    "- Highly scalable, ideal for big data & real-time applications."
   ]
  },
  {
   "cell_type": "markdown",
   "metadata": {},
   "source": [
    "#### **Key-Value Store: Redis & DynamoDB for Caching & Real-Time Data**"
   ]
  },
  {
   "cell_type": "markdown",
   "metadata": {},
   "source": [
    "- A Key-Value Store is a type of NoSQL database that stores data in a simple key-value format, similar to a dictionary or hash table. It provides fast lookups, high scalability, and efficient caching, making it ideal for real-time applications."
   ]
  },
  {
   "cell_type": "markdown",
   "metadata": {},
   "source": [
    "1. **Redis** (Remote Dictionary Server)\n",
    "  - Type: In-memory key-value store\n",
    "  - Best For: Caching, session storage, real-time analytics\n",
    "  - Performance: Extremely fast (sub-millisecond latency)\n",
    "  -  Use Cases:\n",
    "     - Caching: Frequently accessed data is stored in Redis to reduce database load.\n",
    "     - Session Management: Web applications store user sessions in Redis.\n",
    "     - Real-Time Leaderboards: Used in gaming platforms for tracking scores.\n",
    "     - Message Queues: Acts as a broker for real-time messaging."
   ]
  },
  {
   "cell_type": "markdown",
   "metadata": {},
   "source": []
  },
  {
   "cell_type": "markdown",
   "metadata": {},
   "source": [
    "2. **Amazon DynamoDB**\n",
    "- cloud based key value and document store\n",
    "- Scalable real-time applications, IoT, e-commerce\n",
    "- Performance: Millisecond latency with auto-scaling\n",
    "- Use Cases:\n",
    "    - Real-Time Inventory Tracking: E-commerce platforms use DynamoDB to manage stock levels.\n",
    "    - Serverless Applications: Works with AWS Lambda for real-time processing.\n",
    "    - Gaming: Tracks player data and in-game purchases."
   ]
  },
  {
   "cell_type": "markdown",
   "metadata": {},
   "source": []
  },
  {
   "cell_type": "raw",
   "metadata": {},
   "source": [
    "Feature\t                         Redis\t                       DynamoDB\n",
    "Storage Type            \tIn-memory (RAM)\t               Persistent (Disk + SSD)\n",
    "Speed\t                 Sub-millisecond latency\t       Millisecond latency\n",
    "Use Case\t           Caching, messaging, sessions\t      Scalable real-time storage\n",
    "Persistence\t             Optional(Snapshot-based)\t          Fully persistent\n",
    "Scalability\t           Horizontal scaling (Sharding)\t    Auto-scaling with AWS"
   ]
  },
  {
   "cell_type": "markdown",
   "metadata": {},
   "source": []
  },
  {
   "cell_type": "markdown",
   "metadata": {},
   "source": [
    "___\n",
    "___\n",
    "___"
   ]
  },
  {
   "cell_type": "markdown",
   "metadata": {
    "vscode": {
     "languageId": "raw"
    }
   },
   "source": [
    "- An in-memory store is a data storage system that keeps all or most of its data in the system's RAM (Random Access Memory) instead of on disk or SSD. This makes data retrieval and processing extremely fast compared to traditional disk-based databases."
   ]
  },
  {
   "cell_type": "markdown",
   "metadata": {},
   "source": [
    "___"
   ]
  },
  {
   "cell_type": "markdown",
   "metadata": {},
   "source": [
    "- Redis can act as a broker for real-time messaging using its Pub/Sub (Publish/Subscribe) model or Redis Streams. Here’s how Redis helps in real-time messaging:"
   ]
  },
  {
   "cell_type": "markdown",
   "metadata": {},
   "source": [
    "### Pub/Sub (Publish-Subscribe Model)\n",
    "Redis Pub/Sub enables real-time communication between multiple clients."
   ]
  },
  {
   "cell_type": "markdown",
   "metadata": {},
   "source": [
    "### How It Works:\n",
    "- Publisher sends messages to a channel.\n",
    "- Subscribers listening to the channel receive those messages instantly."
   ]
  },
  {
   "cell_type": "markdown",
   "metadata": {},
   "source": [
    "___"
   ]
  },
  {
   "cell_type": "markdown",
   "metadata": {},
   "source": []
  }
 ],
 "metadata": {
  "kernelspec": {
   "display_name": "base",
   "language": "python",
   "name": "python3"
  },
  "language_info": {
   "codemirror_mode": {
    "name": "ipython",
    "version": 3
   },
   "file_extension": ".py",
   "mimetype": "text/x-python",
   "name": "python",
   "nbconvert_exporter": "python",
   "pygments_lexer": "ipython3",
   "version": "3.12.7"
  }
 },
 "nbformat": 4,
 "nbformat_minor": 2
}
