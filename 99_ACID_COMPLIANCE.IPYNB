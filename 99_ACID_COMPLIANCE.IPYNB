{
 "cells": [
  {
   "cell_type": "markdown",
   "metadata": {},
   "source": [
    "## 1.Atomicity\n",
    "- Ensures that each transaction is treated as a single, indivisible unit.If any part of the transaction fails, the entire transaction is rolled back, preventing partial updates.\n",
    "## 2.Consistency\n",
    "- Guarantees that the database remains in a valid state before and after the transaction. Transactions must conform to all integrity constraints and business rules.\n",
    "\n",
    "  - Example: If a database requires that total debits and credits balance, a transaction must not leave the system in an unbalanced state."
   ]
  },
  {
   "cell_type": "markdown",
   "metadata": {},
   "source": [
    "## 3.Isolation \n",
    "- Ensures that concurrent transactions do not interfere with each other. Each transaction is executed independently until it is committed."
   ]
  },
  {
   "cell_type": "markdown",
   "metadata": {},
   "source": [
    "## 4.Durability \n",
    "- Ensures that once a transaction is committed, it remains permanent, even in the case of a system crash or failure.\n",
    "\n",
    "  - Example: If a power failure occurs right after a bank transfer is completed, the transaction should still be stored safely in the database."
   ]
  },
  {
   "cell_type": "markdown",
   "metadata": {},
   "source": []
  }
 ],
 "metadata": {
  "language_info": {
   "name": "python"
  }
 },
 "nbformat": 4,
 "nbformat_minor": 2
}
