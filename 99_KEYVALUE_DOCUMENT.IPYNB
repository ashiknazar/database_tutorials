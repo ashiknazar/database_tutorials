{
 "cells": [
  {
   "cell_type": "markdown",
   "metadata": {},
   "source": [
    "## Key-Value Stores (e.g., Redis, DynamoDB, Riak)\n",
    "  - Structure: Data is stored as key-value pairs (like a Python dictionary or a hash table).\n",
    "  - Access: Retrieve data only by key (**no querying inside values**).\n",
    "  - Use Cases: Caching, session management, fast lookups."
   ]
  },
  {
   "cell_type": "markdown",
   "metadata": {
    "vscode": {
     "languageId": "raw"
    }
   },
   "source": [
    "\n",
    "- \"user:101\": \"{'name': 'Alice', 'age': 25, 'city': 'New York'}\"\n",
    "- db.get(\"user:101\")"
   ]
  },
  {
   "cell_type": "markdown",
   "metadata": {},
   "source": [
    "- You cannot search by name = Alice unless you load everything into memory and filter manually.\n"
   ]
  },
  {
   "cell_type": "markdown",
   "metadata": {},
   "source": [
    "##  Document Databases (e.g., MongoDB, CouchDB)"
   ]
  },
  {
   "cell_type": "markdown",
   "metadata": {},
   "source": [
    "- Structure: Stores JSON-like documents with nested fields\n",
    "- Access: Data can be retrieved by both key and queries inside documents.\n",
    "- Use Cases: Flexible schema, semi-structured data, scalable apps."
   ]
  },
  {
   "cell_type": "raw",
   "metadata": {},
   "source": [
    "{\n",
    "  \"_id\": 101,\n",
    "  \"name\": \"Alice\",\n",
    "  \"age\": 25,\n",
    "  \"address\": {\n",
    "    \"city\": \"New York\",\n",
    "    \"zipcode\": \"10001\"\n",
    "  }\n",
    "}\n"
   ]
  },
  {
   "cell_type": "markdown",
   "metadata": {},
   "source": [
    "- You can access by key (_id):\n",
    "   - db.users.find_one({\"_id\": 101})\n",
    "- query by any field:\n",
    "   - db.users.find({\"age\": 25})\n",
    "- even query inside nested fields:\n",
    "   - db.users.find({\"address.city\": \"New York\"})\n",
    "\n",
    "\n"
   ]
  },
  {
   "cell_type": "markdown",
   "metadata": {},
   "source": [
    "### Is MongoDB Like a Key-Value Store?"
   ]
  },
  {
   "cell_type": "markdown",
   "metadata": {},
   "source": [
    "- Yes, partially!\n",
    "- Each document has a unique _id, which works like a key in key-value stores.\n",
    "- You can retrieve data by _id like a key-value store:"
   ]
  },
  {
   "cell_type": "markdown",
   "metadata": {},
   "source": [
    "#### **But MongoDB is more powerful than a key-value store** because:"
   ]
  },
  {
   "cell_type": "markdown",
   "metadata": {},
   "source": [
    "- You can query inside the document, filter by fields, and perform aggregations.\n",
    "- Data is stored as JSON-like documents, not just raw values."
   ]
  },
  {
   "cell_type": "markdown",
   "metadata": {},
   "source": [
    "#### **What Do You Mean by \"Raw Values\" in a Key-Value Store?**"
   ]
  },
  {
   "cell_type": "markdown",
   "metadata": {},
   "source": [
    "- In a key-value store (like Redis or DynamoDB), the value is often stored as a plain string, number, or binary blob without structure. The database does not understand or organize the value’s internal structure—it just retrieves and stores it."
   ]
  },
  {
   "cell_type": "markdown",
   "metadata": {},
   "source": [
    "  - The value is just a string (even though it looks like JSON).\n",
    "  - The database does not know what's inside the string—it treats it as raw data.\n",
    "  - The database does not know what's inside the string—it treats it as raw data.\n",
    "  - If you want to filter by \"age\": 25, you cannot do it efficiently because the DB doesn't understand the structure inside the value.\n",
    " \n"
   ]
  },
  {
   "cell_type": "markdown",
   "metadata": {},
   "source": [
    "#### **How Does a Document Database (like MongoDB) Store Data Differently?**"
   ]
  },
  {
   "cell_type": "markdown",
   "metadata": {},
   "source": [
    "- MongoDB stores JSON-like documents **(BSON format)** where the database understands the structure of the data. This means you can query inside the document directly."
   ]
  },
  {
   "cell_type": "markdown",
   "metadata": {},
   "source": [
    "  - The database knows that \"age\": 25 is a field inside the document.\n",
    "  - You can query inside the data:\n",
    "  - You can index fields like \"age\" for faster lookups.\n",
    "  - Supports nested queries:"
   ]
  },
  {
   "cell_type": "markdown",
   "metadata": {},
   "source": [
    "- Unlike a key-value store, MongoDB does not treat the entire document as a single opaque value."
   ]
  },
  {
   "cell_type": "markdown",
   "metadata": {},
   "source": []
  }
 ],
 "metadata": {
  "kernelspec": {
   "display_name": "base",
   "language": "python",
   "name": "python3"
  },
  "language_info": {
   "codemirror_mode": {
    "name": "ipython",
    "version": 3
   },
   "file_extension": ".py",
   "mimetype": "text/x-python",
   "name": "python",
   "nbconvert_exporter": "python",
   "pygments_lexer": "ipython3",
   "version": "3.12.7"
  }
 },
 "nbformat": 4,
 "nbformat_minor": 2
}
