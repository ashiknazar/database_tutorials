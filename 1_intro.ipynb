{
 "cells": [
  {
   "cell_type": "markdown",
   "metadata": {},
   "source": [
    "## 1.Relational Databases (SQL)\n",
    "- These databases store data in structured tabular format with relationships between tables.\n",
    "- Examples:\n",
    "  - **PostgreSQL** – Open-source, great for analytics, geospatial data, and complex queries.\n",
    "  - **MySQL** – Lightweight, commonly used for web applications.\n",
    "  - **Microsoft SQL Server** – Enterprise-grade, used for business intelligence.\n",
    "  - **Oracle Database** – Used in large-scale enterprise applications.\n",
    "- Best For:\n",
    "  - Structured data with clear relationships (e.g., customer data, transactions, financial records).\n",
    "  - Scenarios requiring ACID compliance (Atomicity, Consistency, Isolation, Durability).\n",
    "  - Business applications, banking, and e-commerce platforms."
   ]
  },
  {
   "cell_type": "markdown",
   "metadata": {},
   "source": [
    "___"
   ]
  },
  {
   "cell_type": "markdown",
   "metadata": {},
   "source": [
    "### Oracle Database and SQL Server Licensing\n",
    "\n",
    "Oracle Database and Microsoft SQL Server are **not fully open-source**. However, they do offer free versions with limitations:\n",
    "\n",
    "- **Oracle Database Express Edition (XE)** – A free, lightweight version of Oracle Database with limited features.\n",
    "- **Microsoft SQL Server Express** – A free edition of SQL Server with restrictions on database size and performance.\n",
    "\n",
    "For full enterprise features, commercial licenses are required.\n"
   ]
  },
  {
   "cell_type": "markdown",
   "metadata": {},
   "source": [
    "___"
   ]
  },
  {
   "cell_type": "markdown",
   "metadata": {},
   "source": [
    "## 2.NoSQL Databases\n",
    "- NoSQL databases handle semi-structured and unstructured data and are designed for scalability and flexibility.\n",
    "\n",
    "- Types & Examples:\n",
    "  1. **Key-Value Stores** (for caching, fast lookups)\n",
    "    - Redis – Used for caching and real-time processing.\n",
    "    - Amazon DynamoDB – Scalable NoSQL service by AWS.\n",
    "  2. **Document Databases** (for flexible schemas)\n",
    "    - MongoDB – Popular for web apps, real-time analytics.\n",
    "    - CouchDB – Used for distributed applications.\n",
    "  3. **Column-Family Stores** (for big data)\n",
    "\n",
    "    - Apache Cassandra – Best for high-speed write operations (e.g., IoT data).\n",
    "    - HBase – Works well with Hadoop for big data applications.\n",
    "  4. **Graph Databases**(for relationships)\n",
    "\n",
    "    - Neo4j – Used in recommendation systems, fraud detection.\n",
    "    - ArangoDB – Supports multi-model database architecture.\n",
    "- Best For:\n",
    "  - Unstructured or semi-structured data (JSON, XML, etc.).\n",
    "  - High scalability needs (social media apps, IoT, streaming).\n",
    "  - Graph data structures (network analysis, social graphs)."
   ]
  },
  {
   "cell_type": "markdown",
   "metadata": {},
   "source": [
    "___"
   ]
  },
  {
   "cell_type": "markdown",
   "metadata": {},
   "source": [
    "## 3.Time-Series Databases\n",
    "- Designed to handle time-stamped data.\n"
   ]
  },
  {
   "cell_type": "markdown",
   "metadata": {},
   "source": [
    "- **InfluxDB** – Used for IoT, DevOps monitoring.\n",
    "- **TimescaleDB** – PostgreSQL-based, optimized for time-series data.\n",
    "- **Prometheus** – Used in cloud monitoring.\n"
   ]
  },
  {
   "cell_type": "markdown",
   "metadata": {},
   "source": [
    "#### **Best For**"
   ]
  },
  {
   "cell_type": "markdown",
   "metadata": {},
   "source": [
    "- IoT sensor data, stock prices, system logs, and metrics.\n",
    "- Real-time analytics and monitoring."
   ]
  },
  {
   "cell_type": "markdown",
   "metadata": {},
   "source": [
    "___"
   ]
  },
  {
   "cell_type": "markdown",
   "metadata": {},
   "source": [
    "##  4.NewSQL Databases"
   ]
  },
  {
   "cell_type": "markdown",
   "metadata": {},
   "source": [
    "- Combines the scalability of NoSQL with the ACID compliance of SQL."
   ]
  },
  {
   "cell_type": "markdown",
   "metadata": {},
   "source": [
    "#### **Examples:**\n",
    "- **Google Spanner** – Globally distributed transactions.\n",
    "- **CockroachDB** – Horizontally scalable SQL database.\n",
    "- **VoltDB** – Designed for low-latency transactions."
   ]
  },
  {
   "cell_type": "markdown",
   "metadata": {},
   "source": [
    "#### **Best For**"
   ]
  },
  {
   "cell_type": "markdown",
   "metadata": {},
   "source": [
    "- Large-scale applications requiring transactional consistency with SQL.\n",
    "- Banking, financial applications, and global-scale apps."
   ]
  },
  {
   "cell_type": "markdown",
   "metadata": {},
   "source": [
    "___"
   ]
  },
  {
   "cell_type": "markdown",
   "metadata": {},
   "source": [
    "## 5.Search Databases"
   ]
  },
  {
   "cell_type": "markdown",
   "metadata": {},
   "source": [
    "- Optimized for full-text search and analytics."
   ]
  },
  {
   "cell_type": "markdown",
   "metadata": {},
   "source": [
    "- Elasticsearch – Used for log and text-based searches.\n",
    "- Solr – Apache’s alternative to Elasticsearch."
   ]
  },
  {
   "cell_type": "markdown",
   "metadata": {},
   "source": [
    "#### **Best For:**\n",
    "- Large-scale text search (e.g., search engines, log analysis).\n",
    "- E-commerce search functionality."
   ]
  },
  {
   "cell_type": "markdown",
   "metadata": {},
   "source": [
    "___"
   ]
  },
  {
   "cell_type": "markdown",
   "metadata": {},
   "source": [
    "## 6.Graphical Databases\n",
    "- Used for applications requiring complex relationships between entities."
   ]
  },
  {
   "cell_type": "markdown",
   "metadata": {},
   "source": [
    "- **Neo4j** – Used for fraud detection, recommendation systems.\n",
    "- **JanusGraph** – Large-scale distributed graph storage"
   ]
  },
  {
   "cell_type": "markdown",
   "metadata": {},
   "source": [
    "### Best For\n",
    "- Social networks, fraud detection, recommendation engines."
   ]
  },
  {
   "cell_type": "markdown",
   "metadata": {},
   "source": [
    "___"
   ]
  },
  {
   "cell_type": "markdown",
   "metadata": {},
   "source": [
    "- Transactional (Banking, E-commerce) | PostgreSQL, MySQL, Oracle\n",
    "- Big Data Analytics      |\tApache Cassandra, HBase\n",
    "- Real-time Processing\t  |Redis, Apache Kafka\n",
    "- IoT & Time-Series\t     | InfluxDB, TimescaleDB\n",
    "- Document Storage\t     |MongoDB, CouchDB\n",
    "- Search Engine\t         |Elasticsearch, Solr\n",
    "- Graph Data\t        | Neo4j, ArangoDB"
   ]
  },
  {
   "cell_type": "markdown",
   "metadata": {},
   "source": []
  }
 ],
 "metadata": {
  "language_info": {
   "name": "python"
  }
 },
 "nbformat": 4,
 "nbformat_minor": 2
}
